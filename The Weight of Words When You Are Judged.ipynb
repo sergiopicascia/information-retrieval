{
 "cells": [
  {
   "cell_type": "markdown",
   "id": "aa3dd21a",
   "metadata": {},
   "source": [
    "# The Weight of Words When You Are Judged"
   ]
  },
  {
   "cell_type": "code",
   "execution_count": 1,
   "id": "3888af01",
   "metadata": {},
   "outputs": [],
   "source": [
    "import pandas as pd\n",
    "from tqdm.auto import tqdm"
   ]
  },
  {
   "cell_type": "markdown",
   "id": "7ab0cdca",
   "metadata": {},
   "source": [
    "## Data Import"
   ]
  },
  {
   "cell_type": "code",
   "execution_count": 2,
   "id": "a0886070",
   "metadata": {},
   "outputs": [],
   "source": [
    "import json\n",
    "\n",
    "# Open json file, transform it in a collection of objects\n",
    "# and retrieve a list of court decisions\n",
    "with open('Data/data.jsonl') as f:\n",
    "    data = json.loads(\"[\" + \n",
    "        f.read().replace(\"}\\n{\", \"},\\n{\") + \n",
    "    \"]\")"
   ]
  },
  {
   "cell_type": "code",
   "execution_count": 3,
   "id": "aa99193b",
   "metadata": {},
   "outputs": [
    {
     "data": {
      "text/plain": [
       "183146"
      ]
     },
     "execution_count": 3,
     "metadata": {},
     "output_type": "execute_result"
    }
   ],
   "source": [
    "# Number of court decisions\n",
    "len(data)"
   ]
  },
  {
   "cell_type": "code",
   "execution_count": 4,
   "id": "04d1aece",
   "metadata": {},
   "outputs": [],
   "source": [
    "# Retrieve each opinion and relevant metadata\n",
    "opinions = []\n",
    "\n",
    "for cd in data:\n",
    "    identifier = cd['id']\n",
    "    name = cd['name_abbreviation']\n",
    "    year = cd['decision_date'][:4]\n",
    "    \n",
    "    for op in cd['casebody']['data']['opinions']:\n",
    "        opinion = op['text']\n",
    "        \n",
    "        opinions.append([identifier, name, year, opinion])"
   ]
  },
  {
   "cell_type": "code",
   "execution_count": 5,
   "id": "7777c4af",
   "metadata": {},
   "outputs": [
    {
     "data": {
      "text/plain": [
       "194366"
      ]
     },
     "execution_count": 5,
     "metadata": {},
     "output_type": "execute_result"
    }
   ],
   "source": [
    "# Total number of opinions\n",
    "len(opinions)"
   ]
  },
  {
   "cell_type": "code",
   "execution_count": 6,
   "id": "a82d3a39",
   "metadata": {
    "scrolled": true
   },
   "outputs": [
    {
     "data": {
      "text/html": [
       "<div>\n",
       "<style scoped>\n",
       "    .dataframe tbody tr th:only-of-type {\n",
       "        vertical-align: middle;\n",
       "    }\n",
       "\n",
       "    .dataframe tbody tr th {\n",
       "        vertical-align: top;\n",
       "    }\n",
       "\n",
       "    .dataframe thead th {\n",
       "        text-align: right;\n",
       "    }\n",
       "</style>\n",
       "<table border=\"1\" class=\"dataframe\">\n",
       "  <thead>\n",
       "    <tr style=\"text-align: right;\">\n",
       "      <th></th>\n",
       "      <th>id</th>\n",
       "      <th>name</th>\n",
       "      <th>year</th>\n",
       "      <th>opinion</th>\n",
       "    </tr>\n",
       "  </thead>\n",
       "  <tbody>\n",
       "    <tr>\n",
       "      <th>0</th>\n",
       "      <td>544894</td>\n",
       "      <td>In re Marriage of Lappe</td>\n",
       "      <td>1997</td>\n",
       "      <td>JUSTICE BILANDIC\\ndelivered the opinion of the...</td>\n",
       "    </tr>\n",
       "    <tr>\n",
       "      <th>1</th>\n",
       "      <td>544894</td>\n",
       "      <td>In re Marriage of Lappe</td>\n",
       "      <td>1997</td>\n",
       "      <td>JUSTICE FREEMAN,\\ndissenting:\\nJurisdiction is...</td>\n",
       "    </tr>\n",
       "    <tr>\n",
       "      <th>2</th>\n",
       "      <td>544872</td>\n",
       "      <td>People v. Pulliam</td>\n",
       "      <td>1997</td>\n",
       "      <td>CHIEF JUSTICE HEIPLE\\ndelivered the opinion of...</td>\n",
       "    </tr>\n",
       "    <tr>\n",
       "      <th>3</th>\n",
       "      <td>544872</td>\n",
       "      <td>People v. Pulliam</td>\n",
       "      <td>1997</td>\n",
       "      <td>JUSTICE HARRISON,\\ndissenting:\\nThe trial cour...</td>\n",
       "    </tr>\n",
       "    <tr>\n",
       "      <th>4</th>\n",
       "      <td>544855</td>\n",
       "      <td>People v. Smith</td>\n",
       "      <td>1997</td>\n",
       "      <td>JUSTICE HARRISON\\ndelivered the opinion of the...</td>\n",
       "    </tr>\n",
       "  </tbody>\n",
       "</table>\n",
       "</div>"
      ],
      "text/plain": [
       "       id                     name  year  \\\n",
       "0  544894  In re Marriage of Lappe  1997   \n",
       "1  544894  In re Marriage of Lappe  1997   \n",
       "2  544872        People v. Pulliam  1997   \n",
       "3  544872        People v. Pulliam  1997   \n",
       "4  544855          People v. Smith  1997   \n",
       "\n",
       "                                             opinion  \n",
       "0  JUSTICE BILANDIC\\ndelivered the opinion of the...  \n",
       "1  JUSTICE FREEMAN,\\ndissenting:\\nJurisdiction is...  \n",
       "2  CHIEF JUSTICE HEIPLE\\ndelivered the opinion of...  \n",
       "3  JUSTICE HARRISON,\\ndissenting:\\nThe trial cour...  \n",
       "4  JUSTICE HARRISON\\ndelivered the opinion of the...  "
      ]
     },
     "execution_count": 6,
     "metadata": {},
     "output_type": "execute_result"
    }
   ],
   "source": [
    "# Convert to pandas dataframe\n",
    "opinions = pd.DataFrame(opinions, columns=['id', 'name', 'year', 'opinion'])\n",
    "opinions['year'] = opinions['year'].astype('int')\n",
    "opinions.head()"
   ]
  },
  {
   "cell_type": "markdown",
   "id": "fb1adf84",
   "metadata": {},
   "source": [
    "## Text Preprocessing"
   ]
  },
  {
   "cell_type": "code",
   "execution_count": 7,
   "id": "a3219de1",
   "metadata": {},
   "outputs": [],
   "source": [
    "import string\n",
    "import contractions\n",
    "from string import digits\n",
    "\n",
    "punct = string.punctuation\n",
    "\n",
    "def text_preproc(text):\n",
    "    \"\"\"\n",
    "    text: string to preprocess\n",
    "    \n",
    "    Normalize the input, lower characters, extend contractions, \n",
    "    remove functional punctuation and digits.\n",
    "    Return the modified text.\n",
    "    \"\"\"\n",
    "    \n",
    "    text = text.replace('\\n', ' ')\n",
    "    text = text.lower()\n",
    "    text = contractions.fix(text)\n",
    "    \n",
    "    remove_digits = str.maketrans('', '', digits)\n",
    "    text = text.translate(remove_digits)\n",
    "    \n",
    "    text = \"\".join([char for char in text if char not in punct])    \n",
    "        \n",
    "    return text"
   ]
  },
  {
   "cell_type": "code",
   "execution_count": 8,
   "id": "3c40203c",
   "metadata": {
    "scrolled": false
   },
   "outputs": [
    {
     "data": {
      "application/vnd.jupyter.widget-view+json": {
       "model_id": "1598b20e725e40919529399610c8e0b7",
       "version_major": 2,
       "version_minor": 0
      },
      "text/plain": [
       "  0%|          | 0/194366 [00:00<?, ?it/s]"
      ]
     },
     "metadata": {},
     "output_type": "display_data"
    }
   ],
   "source": [
    "tqdm.pandas()\n",
    "opinions['opinion'] = opinions['opinion'].progress_apply(lambda x: text_preproc(x))"
   ]
  },
  {
   "cell_type": "code",
   "execution_count": 9,
   "id": "9d7ca84e",
   "metadata": {},
   "outputs": [],
   "source": [
    "from nltk.stem import WordNetLemmatizer\n",
    "from nltk import pos_tag, word_tokenize\n",
    "\n",
    "lemmatizer = WordNetLemmatizer()\n",
    "\n",
    "def lemmatization(text):\n",
    "    \"\"\"\n",
    "    text: document to lemmatize\n",
    "    \n",
    "    Retrieve each word and the respective \n",
    "    position tag. Use the WordNet lemmatizer\n",
    "    with these information.\n",
    "    Return a list of lemmas.\n",
    "    \"\"\"\n",
    "    \n",
    "    tokens = pos_tag(word_tokenize(text))\n",
    "    \n",
    "    doc = []\n",
    "    \n",
    "    for word, tag in tokens:\n",
    "        if tag[0] in ['A', 'R', 'N', 'V']:\n",
    "            lemma = lemmatizer.lemmatize(word, tag[0].lower())\n",
    "            doc.append(lemma)\n",
    "        else:\n",
    "            doc.append(word)\n",
    "        \n",
    "    return doc"
   ]
  },
  {
   "cell_type": "code",
   "execution_count": 10,
   "id": "eacf239a",
   "metadata": {
    "scrolled": true
   },
   "outputs": [
    {
     "data": {
      "application/vnd.jupyter.widget-view+json": {
       "model_id": "bfb6ecf4d6b44143bea44452084af04e",
       "version_major": 2,
       "version_minor": 0
      },
      "text/plain": [
       "  0%|          | 0/194366 [00:00<?, ?it/s]"
      ]
     },
     "metadata": {},
     "output_type": "display_data"
    }
   ],
   "source": [
    "opinions['tokens'] = opinions['opinion'].progress_apply(lambda x: lemmatization(x))"
   ]
  },
  {
   "cell_type": "code",
   "execution_count": 11,
   "id": "96a6238e",
   "metadata": {
    "scrolled": true
   },
   "outputs": [
    {
     "data": {
      "text/plain": [
       "0    [justice, bilandic, deliver, the, opinion, of,...\n",
       "1    [justice, freeman, dissent, jurisdiction, be, ...\n",
       "2    [chief, justice, heiple, deliver, the, opinion...\n",
       "3    [justice, harrison, dissent, the, trial, court...\n",
       "4    [justice, harrison, deliver, the, opinion, of,...\n",
       "Name: tokens, dtype: object"
      ]
     },
     "execution_count": 11,
     "metadata": {},
     "output_type": "execute_result"
    }
   ],
   "source": [
    "opinions['tokens'].head()"
   ]
  },
  {
   "cell_type": "markdown",
   "id": "8d10f826",
   "metadata": {},
   "source": [
    "## Word2Vec"
   ]
  },
  {
   "cell_type": "code",
   "execution_count": 12,
   "id": "58479765",
   "metadata": {},
   "outputs": [],
   "source": [
    "# Transform data for being a proper input to w2v model\n",
    "docs = opinions['tokens'].tolist()"
   ]
  },
  {
   "cell_type": "code",
   "execution_count": 13,
   "id": "62ad3d06",
   "metadata": {
    "scrolled": true
   },
   "outputs": [],
   "source": [
    "from gensim.models import Word2Vec\n",
    "\n",
    "# Train the Word2Vec model\n",
    "model = Word2Vec(docs, vector_size=150, min_count=2, sg=0, epochs=10, seed=22)"
   ]
  },
  {
   "cell_type": "code",
   "execution_count": 14,
   "id": "a59179bc",
   "metadata": {
    "scrolled": false
   },
   "outputs": [
    {
     "data": {
      "text/plain": [
       "242779"
      ]
     },
     "execution_count": 14,
     "metadata": {},
     "output_type": "execute_result"
    }
   ],
   "source": [
    "# Size of the dictionary\n",
    "len(model.wv.key_to_index)"
   ]
  },
  {
   "cell_type": "code",
   "execution_count": 15,
   "id": "8f8ee3de",
   "metadata": {
    "scrolled": true
   },
   "outputs": [
    {
     "data": {
      "text/plain": [
       "[('heroin', 0.9423210024833679),\n",
       " ('marijuana', 0.8962147235870361),\n",
       " ('lsd', 0.8342110514640808),\n",
       " ('narcotic', 0.8088869452476501),\n",
       " ('cannabis', 0.7971652746200562),\n",
       " ('pcp', 0.7862935662269592),\n",
       " ('amphetamine', 0.7499281167984009),\n",
       " ('drug', 0.7285762429237366),\n",
       " ('methamphetamine', 0.7227038145065308),\n",
       " ('gram', 0.7026399970054626)]"
      ]
     },
     "execution_count": 15,
     "metadata": {},
     "output_type": "execute_result"
    }
   ],
   "source": [
    "# Example of the 10 words most similar to 'cocaine'\n",
    "model.wv.most_similar('cocaine', topn=10)"
   ]
  },
  {
   "cell_type": "code",
   "execution_count": 16,
   "id": "e8c65b61",
   "metadata": {},
   "outputs": [],
   "source": [
    "def similar_terms(words, threshold=0.6):\n",
    "    \"\"\"\n",
    "    words: list of words\n",
    "    threshold: value of minimum similarity\n",
    "    \n",
    "    For each word in the list, find which are the\n",
    "    most similar terms according to the similarity\n",
    "    threshold.\n",
    "    Return a list of similar terms.\n",
    "    \"\"\"\n",
    "    \n",
    "    vocab = model.wv.index_to_key\n",
    "    terms = []\n",
    "    \n",
    "    for w in words:\n",
    "        terms.append(w)\n",
    "        sim = model.wv.most_similar(w, topn=None)\n",
    "        for idx, s in enumerate(sim):\n",
    "            if s > threshold:\n",
    "                terms.append(vocab[idx])\n",
    "                \n",
    "    return set(terms)"
   ]
  },
  {
   "cell_type": "code",
   "execution_count": 17,
   "id": "53b32918",
   "metadata": {},
   "outputs": [],
   "source": [
    "# Selected list of terms\n",
    "n = ['cannabis', 'cocaine', 'methamphetamine', 'drug', 'alcohol',\n",
    "     'marijuana', 'mdma', 'lsd', 'ketamine', 'heroin', 'fentanyl']\n",
    "\n",
    "w = ['gun', 'knife', 'weapon', 'firearm', 'rifle', 'carbine', 'pistol',\n",
    "     'revolver', 'shotgun', 'sword', 'bludgeon', 'nightstick']\n",
    "\n",
    "c = ['gang', 'mafia', 'killer', 'rape', 'theft', 'recidivism', 'arrest', 'slavery', \n",
    "     'terrorism', 'robbery', 'cyber', 'arson', 'abuse', 'fraud', 'stalking'] \n",
    "     \n",
    "d = ['caucasian', 'afroamerican', 'hispanic', 'male', 'female', 'man', 'woman',\n",
    "    'homosexual', 'heterosexual', 'minor', 'parent']"
   ]
  },
  {
   "cell_type": "code",
   "execution_count": 18,
   "id": "fd885c4e",
   "metadata": {},
   "outputs": [],
   "source": [
    "# Find similar terms for each subject of interest\n",
    "narcotics = similar_terms(n)\n",
    "weapons = similar_terms(w)\n",
    "crimes = similar_terms(c)\n",
    "demographics = similar_terms(d)"
   ]
  },
  {
   "cell_type": "markdown",
   "id": "7d5c0052",
   "metadata": {},
   "source": [
    "## TF-IDF"
   ]
  },
  {
   "cell_type": "code",
   "execution_count": 30,
   "id": "74785e74",
   "metadata": {},
   "outputs": [],
   "source": [
    "from sklearn.feature_extraction.text import TfidfVectorizer\n",
    "\n",
    "vectorizer = TfidfVectorizer(stop_words='english') # Instantiate vectorizer excluding stop words\n",
    "documents = [' '.join(op) for op in opinions['tokens']] # Retrieve documents as strings from list of tokens\n",
    "vectors = vectorizer.fit_transform(documents) # Fit the vectorizer\n",
    "features = vectorizer.get_feature_names() # Retrieve features names"
   ]
  },
  {
   "cell_type": "code",
   "execution_count": 259,
   "id": "3f0a8e30",
   "metadata": {},
   "outputs": [
    {
     "data": {
      "text/plain": [
       "432516"
      ]
     },
     "execution_count": 259,
     "metadata": {},
     "output_type": "execute_result"
    }
   ],
   "source": [
    "len(features) # Number of words in vocabulary"
   ]
  },
  {
   "cell_type": "markdown",
   "id": "c12ac510",
   "metadata": {},
   "source": [
    "### Term Relevance"
   ]
  },
  {
   "cell_type": "code",
   "execution_count": 32,
   "id": "17c672f0",
   "metadata": {},
   "outputs": [
    {
     "data": {
      "application/vnd.jupyter.widget-view+json": {
       "model_id": "381dba5b98324074913a9ec15a5063d9",
       "version_major": 2,
       "version_minor": 0
      },
      "text/plain": [
       "0it [00:00, ?it/s]"
      ]
     },
     "metadata": {},
     "output_type": "display_data"
    }
   ],
   "source": [
    "import numpy as np\n",
    "\n",
    "tfidf = {}\n",
    "\n",
    "for i, v in tqdm(enumerate(vectors)):\n",
    "\n",
    "    vect = v.toarray()[0] # Transform to array\n",
    "    idx = np.argpartition(vect, -10)[-10:] # Get indexes of top 10 values\n",
    "    idx = idx[np.argsort(-vect[idx])] # Sort indexes by value\n",
    "    values = vect[idx] # Get top 10 values\n",
    "\n",
    "    words = [features[index] for index in idx] # Retrieve words\n",
    "    pairs = dict(zip(words, values))\n",
    "\n",
    "    tfidf[i] = pairs # Words and value for each document"
   ]
  },
  {
   "cell_type": "code",
   "execution_count": 39,
   "id": "c9137786",
   "metadata": {
    "scrolled": true
   },
   "outputs": [
    {
     "data": {
      "text/plain": [
       "{'ivd': 0.3753121709394532,\n",
       " 'child': 0.3466078088591211,\n",
       " 'department': 0.22569322419732524,\n",
       " 'larry': 0.21908791853257828,\n",
       " 'enforcement': 0.2188079955849199,\n",
       " 'lynn': 0.21601403981259595,\n",
       " 'support': 0.2125949679322833,\n",
       " 'public': 0.1913256469687836,\n",
       " 'nonafdc': 0.19079088428403174,\n",
       " 'afdc': 0.1851652275889991}"
      ]
     },
     "execution_count": 39,
     "metadata": {},
     "output_type": "execute_result"
    }
   ],
   "source": [
    "tfidf[0]"
   ]
  },
  {
   "cell_type": "code",
   "execution_count": 260,
   "id": "965d012e",
   "metadata": {},
   "outputs": [
    {
     "data": {
      "text/plain": [
       "'justice bilandic delivered the opinion of the court the appellant the illinois department of public aid the department filed a motion to intervene in a dissolution action pending between larry and lynn lappe in the circuit court of madison county the department sought to intervene on behalf of larry lappe the custodial parent of the divorced couple’s unemancipated minor child pursuant to sections  —  and  —  of the public aid code  ilcs  —   —  west  the department also filed a petition on larry’s behalf to establish a child support obligation on the part of the appellee lynn lappe lynn filed objections to the department’s motion to intervene arguing that sections  —  and  —  of the public aid code were unconstitutional in that they violated the illinois constitution’s mandate that public funds be used only for public purposes ill const  art viii §  the circuit court ultimately denied the department’s motion to intervene finding that the application of these sections to allow intervention by the department in this case would constitute an unconstitutional use of public funds for a purely private purpose the department appealed to the appellate court and the appellate court transferred the appeal to this court pursuant to supreme court rule a  ill d r a facts larry and lynn lappe were married on october   the couple had two children chad and nicholas in  both lynn and larry filed petitions for dissolu tian of the marriage in the circuit court of madison county on august   the circuit court entered an order dissolving the marriage the record reveals that larry filed for bankruptcy pursuant to chapter  of the united states bankruptcy code on february   according to larry’s bankruptcy schedules he was then employed as the united states postmaster of sorento illinois and had gross earnings of  in  on july   the circuit court entered a judgment of dissolution of marriage which incorporated a marital settlement agreement a joint parenting order and a qualified domestic relations order regarding the division of larry’s interest in the civil service retirement system pension plan the marital settlement agreement stated that larry would pay  per month in child support which amount would be adjusted if necessary the joint parenting order stated that the parties would have joint custody of the two children with lynn having primary residential custody on february   the circuit court entered an order pursuant to an agreement of the parties increasing larry’s child support payments to  per month larry’s child support payments were again increased by agreement on february   to  per month based on a salary increase on july   a stipulated order was entered modifying larry’s child support obligation to  per month because of the emancipation of the couple’s older child chad on march   the circuit court entered an order modifying the judgment of dissolution of marriage pursuant to the parties’ stipulation this stipulated order provided that the principal place of residence for the couple’s minor child nicholas was changed from lynn to larry commencing on march   the order provided that larry’s obligation to pay child sup port to lynn would cease and that lynn would not be obligated to pay child support to larry on july   the illinois department of public aid by the madison county state’s attorney filed a motion to intervene on behalf of larry in the lappe dissolution action as grounds for intervention the department stated that the department is authorized to institute legal action on behalf of larry for judicial enforcement of lynn’s support liability pursuant to  ilcs  —  and  — ” on that same date the department filed a petition to establish an obligation on the part of lynn to pay child support for nicholas on august   the circuit court granted the department’s motion to intervene on august   lynn filed an objection to the department’s motion to intervene lynn argued that the department’s motion should be denied because she believed” that larry was not a recipient of public aid and that he had a large and sufficient income approximately  per year” on august   lynn filed an amended objection to the department’s motion to intervene the amended objection argued that sections  —  and  —  of the public aid code from which the department derived its authority to intervene in this case were unconstitutional lynn contended that these provisions violated the separation of powers doctrine contained in section  of article ii of the illinois constitution of  and the mandate that public funds may be used only for public purposes contained in section  of article viii of the illinois constitution of  on april   the circuit court entered an order setting aside its previous order granting the department leave to intervene and denied the department leave to intervene the circuit court determined that the relevant statutory provisions authorized the department to intervene on behalf of larry the court found however that the provisions violated the constitutional mandate that public funds be used only for public purposes the court determined that there was no proper public purpose in the department’s providing child support enforcement services to larry because larry made  per year and was therefore able to pursue child support from lynn without the department’s assistance the circuit court rejected the contention that these provisions violated the separation of powers doctrine the circuit court’s order concluded as follows it is therefore ordered that the statutory provisions relied upon and cited herein while not unconstitutional in the absolute sense would lead to an unconstitutional result in the instant case and accordingly the order of august   granting the state’s attorney leave to intervene is set aside and said motion for leave to intervene is denied” the circuit court subsequently entered an order finding that there was no just reason for delaying the appeal of its april   order the department filed a notice of appeal to the appellate court the department thereafter filed a motion in the appellate court to transfer the appeal to this court pursuant to supreme court rule a because the circuit court had held a statutory provision unconstitutional lynn objected to the motion to transfer on august   the appellate court entered an order transferring the appeal to this court analysis jurisdiction lynn challenges this court’s jurisdiction over this appeal the department argues that jurisdiction is proper in this court pursuant to supreme court rule a because the circuit court held that a state statute was unconstitutional supreme court rule a provides for appeals to be taken directly to this court from final judgments of circuit courts in cases in which a statute of the united states or of this state has been held invalid”  ill d r a lynn contends that the circuit court’s order in this case did not hold a statute unconstitutional but rather held only that the statute was unconstitutional as applied in this case lynn relies on this court’s decision in rehg v illinois department of revenue  ill d    in which we noted that a lower court order that simply declares that application of a statute would violate a particular defendant’s constitutional rights” is not directly appealable to this court pursuant to rule a a narrow reading of the circuit court’s order in this case supports lynn’s argument the order states that the statutory provisions would lead to an unconstitutional result in the instant case” we must look however to the effect of the circuit court’s order to determine whether the order actually declared the statutory provisions unconstitutional on their face see doe v gainer  ill d    if the effect of the circuit court’s order was to declare a statute unconstitutional on its face this court has jurisdiction under rule a see doe  ill d at  although circuit court’s order stated that statute was unconstitutional as applied” to the plaintiff effect of order was to declare provision unconstitutional on its face and jurisdiction under rule a was proper first of america bank rockford na v netsch  ill d    this court assumed jurisdiction under rule a of appeal from circuit court order which held that certain statutory provisions were unconstitutional as applied” to the plaintiff people v roos  ill d   this court assumed jurisdiction under rule a of appeal from circuit court order which held that a statute was unconstitutional as applied” to the practice of acupuncture miller v lockett  ill d    this court held that jurisdiction was proper under rule a even though the circuit court did not directly state that the statute was unconstitutional because it appeared from the order that the circuit court found the statute invalid sommer v village of glenview  ill d    this court held that it had jurisdiction under rule a of appeal from circuit court order which stated only that a particular statutory provision could not be applied to home rule units because in effect the circuit court order necessarily held that the statutory provision was unconstitutional as applied to home rule units the department asserts that the effect of the circuit court’s order was to declare sections  —  and  —  of the public aid code in part unconstitutional on their face we agree the circuit court ruled that sections  —  and  —  of the public aid code were unconstitutional as applied to larry because in the court’s opinion larry earned  per year and therefore was capable of pursuing child support enforcement services without the department’s assistance as we discuss in detail later in this opinion however sections  —  and  —  clearly grant the department the discretion to provide child support enforcement services to any individual who applies for them regardless of that individual’s financial capability to pursue enforcement privately thus larry is within the class of recipients contemplated by the statutory provisions the trial court’s ruling that the provisions are unconstitutional as applied to larry is therefore in effect a ruling that the provisions are unconstitutional to the extent they allow application to larry and others who are financially capable” in effect the circuit court declared portions of sections  —  and  —  unconstitutional on their face we therefore have jurisdiction pursuant to rule a constitutionality we now turn to the substantive issue in this case whether sections  —  and  —  of the public aid code in allowing the department the discretion to provide child support enforcement services to an individual who may be financially capable of pursuing enforcement privately serve a public purpose within the meaning of article viii section  of the illinois constitution the argument that these provisions violate the separation of powers doctrine has not been raised in this court it is well established that legislative enactments enjoy a heavy presumption of constitutionality people ex rel sheppard v money  ill d    county of kane v carlson  ill d    the party challenging the constitutionality of a statute has the burden of clearly establishing its invalidity people v adams  ill d    bernier v burris  ill d    courts have a duty to sustain legislation whenever possible and resolve all doubts in favor of constitutional validity adams  ill d at  sheppard  ill d at  the statutory provisions at issue in this case govern the department’s provision of child support enforcement services to individuals who are not receiving public aid these provisions are part of a larger statutory scheme for the enforcement of child support obligations and a review of that statutory framework is necessary to provide a proper context for these provisions we begin with the pertinent provisions of the federal social security act  yousc §  et seq  social security act the federal welfare program known as aid to families with dependent children afdc contained in title iva of the social security act established a scheme under which the federal government would reimburse states for a percentage of the funds that states distributed to needy families with children  yousc §  et seq  states were not required to participate in the afdc program but if a state chose to participate in the program it had to comply with the requirements of the social security act and the regulations promulgated thereunder  yousc §   king v bradley  f supp   nd ill  title iva set out in considerable detail the elements which must be included in a state afdc plan  yousc §   if a state afdc plan met with federal approval the state was entitled to reimbursement from the federal government of a substantial percentage of the state funds it expended in afdc payments  yousc § a  in  congress amended the social security act by adding title ivd  yousc §  et seq supp  title ivd established a child support enforcement program ”for the purpose of enforcing the support obligations owed by absent parents to their children”  yousc §   at the same time title iva was amended to require states as a condition of receiving federal afdc funds to adopt child support enforcement programs that complied with title ivd  yousc § a  accordingly in order for a state to obtain federal funding for its afdc program the state was required to operate a child support enforcement program in compliance with title ivd  yousc §§ a h  see also people v sheppard  ill d    king v bradley  f supp   nd ill  carelli v howser  fd   th cir  a state program under title ivd must provide a variety of services including establishment of paternity establishment and enforcement of support obligations and parent locator services  yousc § a   cfr §§      by operating a program of child support enforcement services in compliance with title ivd a state not only would receive federal afdc funding but it would also be reimbursed by the federal government for a large percentage ranging from  to  of the state funds it expends in connection with the title ivd program  yousc §   in addition title ivd provides for states to be paid incentive payments to encourage and reward” states which operate efficient enforcement programs  yousc § b  the incentive payments will generally equal  of the state’s support collections in afdc cases and  of the state’s support collections in nonafdc cases in a particular year  yousc § b  title ivd provides detailed requirements with which a state plan must comply in order for the state to be entitled to federal funding  yousc §   one of the requirements of title ivd is that the state must make the same child support enforcement services available to both families receiving afdc and families who are not receiving afdc  yousc §   the version of section  applicable to this case provides in pertinent part a state plan for child and spousal support must—     provide that a the child support collection or paternity determination services established under the plan shall be made available to any individual not otherwise eligible for such services upon application filed by such individual with the state  b an application fee for furnishing such services shall be imposed which shall be paid by the individual applying for such services or recovered from the absent parent or paid by the state out of its own funds  the amount of which i will not exceed  or such higher or lower amount which shall be uniform for all states as the secretary may determine to be appropriate for any fiscal year ”  yousc §   the office of child support enforcement ocse the federal agency charged with administering the afdc program has promulgated regulations to carry out the title ivd program  cfr §  et seq  in accordance with title ivd the ocse regulations provide that states must make child support enforcement services available to nonafdc recipients regulation  provides in relevant part services to individuals not receiving afdc or title ive foster care assistance a availability of services  the state plan must provide that the services established under the plan shall be made available to any individual who i files an application for the services with the ivd agency”  cfr §  ali  we note for clarification purposes that in late  congress enacted the personal responsibility and work opportunity reconciliation act of  pub l —   stat  personal responsibility act the personal responsibility act replaced the federal afdc program contained in title iva with a program of block grants to states for temporary assistance for needy families tanf pub l  —   stat  tanf like afdc provides the states participating in the program with federal funding for the states’ programs of public assistance to families with dependent children pub l  —   stat  in order to be eligible for a block grant under the tanf program a state must still operate a child support enforcement program in compliance with title ivd pub l —  stat   the personal responsibility act also amended some portions of title ivd however title ivd still requires that a state program must provide child support enforcement services to any  child if an individual applies for such services with respect to the child” pub l  —   stat  illinois public aid code illinois chose to participate in the federal afdc program and thereby receive federal funding for its public aid program  ilcs  —  west    adm code § a  see also king v bradley  f supp   nd ill  as a result illinois is required to operate a child support enforcement program that complies with title ivd  yousc § a  illinois’ title ivd program is contained in article x of the public aid code and part  of the department’s regulations  ilcs  —  et seq west   ill adm code §  et seq  article x of the public aid code states that its purpose is to provide for locating an absent parent for determining his or her financial circumstances and for enforcing his or her legal obligation of support  ilcs  —  west  the services available under article x include  identifying and locating an absent parent  establishing parentage  establishing support obligations  enforcing and collecting support  receiving and distributing support payments and  maintaining accurate records of location and support activities  ill adm code § c  the department may provide these services though the use of either the administrative process or the court system  ilcs  —   —  west   ill adm code § d  to establish a support obligation where a court has previously acquired jurisdiction in a case the department refers the case to the attorney general or state’s attorney for judicial action which includes the preparation of petitions to intervene petitions to establish support obligations and petitions to modify  ilcs  —   —  west   ill adm code §§ e e  the provisions at issue in this case are contained in article x and pertain to the provision of child support enforcement services to nonafdc recipients in accordance with the federal mandate of title ivd article x provides that the child support enforcement services provided thereunder shall be available to both afdc families and nonafdc families section  —  provides in pertinent part at the discretion of the illinois department of public aid the child and spouse support services established under this article may also be furnished in behalf of spouses and dependent children who are not applicants for or recipients of financial aid under this code the department may limit eligibility of these persons to designated income classes if nonapplicants and nonrecipients are included the department may establish a schedule of reasonable fees to be paid for the services provided and may deduct a collection fee not to exceed  of the amount collected from such collection the illinois department of public aid shall because to be published and distributed publications reasonably calculated to inform the public that individuals who are not recipients of or applicants for public aid under this code are eligible for the child and spouse support services under this article x”  ilcs  —  west  section  —  specifically refers to the use of the court system to provide child support enforcement services in relevant part section  —  provides actions may also be brought under this section in behalf of any person who is in need of support from responsible relatives  who is not an applicant for or recipient of financial aid under this code”  ilcs  —  west  in the present case the circuit court determined that sections  —  and  —  authorized the department to intervene and file a petition to establish child support on behalf of larry the court ruled however that in so doing the statutory provisions violated the illinois constitution’s mandate that public funds be used only for public purposes the circuit court found that there was no public purpose in the use of state funds to provide a lawyer for a parent making  a year” we first note that the circuit court was correct in concluding that the pertinent provisions of sections  —  and  —  authorize the department to intervene on behalf of larry in this case these provisions grant the department the discretion to provide child support enforcement services to any individual who applies for such services without regard to his or her financial status section  —  states that the department may” limit eligibility to designated income groups  ilcs  —  west  implicit in that statement is that the department may choose not to limit eligibility based on income the department regulations state that in accordance with title ivd child support enforcement services are available to persons not receiving public aid upon application to the department for such services”  ill adm code § a  the department regulations do not contain any provision limiting eligibility based on income and the parties do not direct our attention to any other source for such limitation the legislative history of section  —  further supports the conclusion that the department is granted the discretion to provide child support enforcement services to any individual regardless of financial need prior to  section  —  stated that actions for child support enforcement could be brought by the department in behalf of any person in necessitous circumstances who is in need of support from responsible relatives” emphasis added ill rev stat  ch  §  —  when section  —  was amended in  the phrase in necessitous circumstances” was deleted from that sentence so that the section would read as it presently does that actions could be brought in behalf of any person who is in need of support from responsible relatives” the legislature deliberately omitted financial need of the applicant as a restriction on the department’s authority thus the pertinent provisions of sections  —  and  —  clearly authorize the department to intervene and petition to establish child support on behalf of larry we must therefore determine whether the provision of child support enforcement services to a nonaid recipient who may be financially capable of pursuing such enforcement privately is a public purpose within the meaning of article viii section  of our state constitution we agree with the department that lynn failed to meet her burden of establishing that no public purpose is served by the department’s provision of child support enforcement services in this case public purpose article viii section  of the illinois constitution of  provides that pjublic funds property or credit shall be used only for public purposes” ill const  art viii §  this court has long recognized that what is for the public good and what are public purposes are questions which the legislature must in the first instance decide people ex rel city of salem v mcmackin  ill d    cremer v peoria housing authority  ill    in making this determination the legislature is vested with a broad discretion and the judgment of the legislature is to be accepted in the absence of a clear showing that the purported public purpose is but an evasion and that the purpose is in fact private salem  ill d at  people ex rel mcdavid v barrett  ill    hagler v small  ill    in the words of justice holmes a declaration by a legislature concerning public conditions that by necessity and duty it must know is entitled at least to great respect” block v hirsh  yous   l ed    s ct    this court has previously set forth guidelines for this inquiry in deciding whether such purpose is public or private courts must be largely influenced by the course and usage of the government the object for which taxes and appropriations have been customarily and by long course of legislation levied and made and what objects have been considered necessary to the support and for the proper use of the government whatever lawfully pertains to this purpose and is sanctioned by time and the acquiescence of the people may well be said to be a public purpose and proper for the maintenance of good government” hagler  ill at  what is a public purpose” is not a static concept but is flexible and capable of expansion to meet the changing conditions of a complex society people ex rel adamowski v chicago rr terminal authority  ill d    people v chicago transit authority  ill    moreover  the power of the state to expend public moneys for public purposes is not to be limited alone to the narrow lines of necessity but the principles of wise statesmanship demand that those things which subserve the general wellbeing of society and the happiness and prosperity of the people shall meet the consideration of the legislative body of the state though they ofttimes call for the expenditure of public money’ ” salem  ill d at  quoting hagler  ill at  the consensus of modern legislative and judicial thinking is to broaden the scope of activities which may be classified as involving a public purpose salem  ill d at  see also marshall field  co v village of south barrington  ill app d    the department argues that the pertinent portions of sections  —  and  —  serve a public purpose by advancing the welfare of children we agree the provision of child support enforcement services on behalf of all dependent children serves a public purpose by promoting the right of children to be supported by their parents fostering parental responsibility and involvement and preventing families from becoming dependent on welfare this court has recognized that illinois has a strong interest in preserving and promoting the welfare of children people ex rel sheppard v money  ill d    in this regard this court has noted that a parent’s duty to support his or her minor child is among the oldest principles of law” sheppard  ill d at  citing  w blackstone commentaries  indeed it is difficult to imagine a more compelling state interest than the support of children” sheppard  ill d at  as described above the illinois child support enforcement program provides assistance to custodial parents in locating absent parents establishing parentage and establishing enforcing and collecting support obligations the provision of these services clearly serves the public purpose of advancing the welfare of children by enforcing a child’s right to be supported by his parents fostering parental responsibility and parental involvement with the child and preventing the child and custodial parent from having to turn to welfare this public purpose is served by the extension of these services to all children regardless of the financial circumstances of their custodial parents all children have the right to be supported by their parents and are benefitted both financially and otherwise when an absent parent provides support the legislature could rightly determine that a public purpose is served by providing an effective program of child support enforcement that is available on behalf of all children with an absent parent the focus of this legislation is on effective enforcement the provisions simply create a mechanism whereby custodial parents of dependent children can with minimal time and expense obtain assistance with the paperwork involved in child support enforcement with locating the person obligated to pay support and with taking the necessary steps including judicial action to ensure that the proper amount of money is collected as one article describes it with the help of idpa potentially available in virtually all cases custodial parents can tap various resources that allow for effective enforcement” d bergbreiter  a mckay child support enforcement and the illinois department of public aid  ill bj    our precedent supports the conclusion that a public purpose is served by the legislation challenged in this case in board of education school district no  v bakalis  ill d   this court found that a public purpose was served by a provision of the school code which required school boards to provide free transportation to school to nonpublic school students the plaintiff challenged the statute arguing that it violated article viii section  of the illinois constitution of  because it constituted the use of public funds for a nonpublic purpose this court rejected that argument finding that the transportation of school children public or nonpublic is a public purpose bakalis  ill d at  the enforcement of a child’s legal right to support from its parent must be considered at least as beneficial to the public good as the transportation of children to school in addition it is important to note that these provisions were included in our public aid code in order to comply with title ivd of the social security act it is appropriate to look at the purposes sought to be achieved by congress in requiring that states include these provisions one purpose of title ivd was to decrease welfare costs by collecting child support owed by noncustodial parents whose dependent children were receiving public aid see s rep no  —  rd cong d sess reprinted in  yousccan   title ivd however expressly requires that child support enforcement services be provided to nonafdc families who make application for such services the legislative history of title ivd reveals dual purposes behind the extension of child support enforcement services to nonafdc families one purpose was to reduce welfare costs by preventing families from becoming dependent on public aid as a result of unpaid child support s rep no  —  rd cong d sess reprinted in  yousccan   the legislative history however reveals that title ivd was also aimed at the broader goal of assuring that all children will obtain assistance in securing child support regardless of their circumstances in recommending passage of title ivd in  the senate finance committee noted that the enforcement of child support obligations is not an area of jurisprudence about which this country can be proud” and that title ivd was designed to help all children” receive the support from absent parents that was their right s rep no  —  rd cong d sess reprinted in  yousccan   further in  congress amended title ivd to strengthen the effectiveness of the program and to clarify that its purpose was to provide assistance in securing child support to all children regardless of their circumstances” s rep no  —  th cong d sess reprinted in  yousccan   to that end the  amendments added language to the purpose clause of title ivd so that it would specifically state that its purpose was to assure assistance in obtaining support to all children  for whom such assistance is requested”  yousc §   this purpose was also emphasized in the recent amendments to title ivd made by the personal responsibility act of  in explaining the amendments to title ivd the house report stated that because millions of families are at risk of needing public welfare unless noncustodial parents provide child support and because additional millions of families are not receiving the financial support that is their legal right from noncustodial parents states must provide child support services to nonwelfare families that request such services” emphasis added hr rep no  —  th cong d sess reprinted in  yousccan   in addition we note that other states have enacted statutes which provide in accordance with title ivd that the same child support enforcement services must be provided to both afdc families and nonafdc families see cabinet for human resources v houck  swd  ky  thaysen v thaysen  so d  fla  worth v superior court  cal app d   cal rptr   jeske v jeske  wis d   nwd   krogstad v krogstad  nwd  minn  carter v morrow  f supp  wdnc  several courts in other states have addressed the issue of whether it is a violation of title ivd for a state to limit eligibility for child support enforcement services to nonafdc recipients who are financially incapable of pursuing enforcement privately those courts have held that title ivd requires that states provide child support enforcement services to all custodial parents who apply for such services regardless of the parent’s financial circumstances see state v wagner  wis d   nwd   thurman v commonwealth of kentucky cabinet for human resources  swd  ky  south carolina department of social services v deglman  sc   sed   further the legislation challenged here has been in existence in this state for over  years in determining whether a statute serves a public purpose a court may take into consideration a long course of legislation and usage of the government” barrett  ill at  hagler  ill at  the pertinent portions of sections  —  and  —  have been in effect in substantially their present form since  thus for over  years the department has possessed the authority to provide child support enforcement services to nonafdc families regardless of their financial circumstances a department report indicates that since the department began enforcing child support orders in  the department has collected more than  billion for the children of illinois illinois department of public aid biennial report fiscal years  at  department reports also indicate that in fiscal year  the department’s child support enforcement program had an active client caseload of  clients of which  were nonafdc clients and the department collected a total of  million in support with  million coming from nonafdc case collections illinois department of public aid human services plan fiscal years    at  for fiscal year  it was estimated that total support collections would equal  million with  million coming from nonafdc cases illinois department of public aid human services plan fiscal years    at  in view of the foregoing it is clear that our legislature the legislatures of other states and congress have all determined that the provision of effective child support enforcement services on behalf of all children regardless of the financial circumstances of their parents is an important governmental goal it is uniquely within the province of these legislative bodies to make these determinations of governmental policy hagler  ill at  our only permissible inquiry is whether the legislature’s determination is constitutionally permissible we find no constitutional basis for overturning the judgment of our legislature on this issue lynn contends however that the legislation challenged here does not serve any public purpose but serves only to provide a private benefit to larry in the form of free legal services this is not an accurate characterization the department’s child support enforcement services are being provided for the benefit of the lappes’ dependent child not the custodial parent child support payments are intended to go directly for the benefit of the child in re marriage of pihaly  ill app d    moreover article x specifically negates the contention that the purpose of these provisions is to provide free legal representation to custodial parents section  —  provides that an attorney who provides representation pursuant to this section shall represent the illinois department exclusively  and an attorneyclient relationship does not exist  between that attorney and  an applicant for or recipient of child and spouse support services ”  ilcs  —  west  the fact that larry may be incidentally benefitted by the provision of these services does not destroy the public nature of the legislation this court has recognized that the execution of a public purpose which involves the expenditure of money is usually attended with private benefits” hagler  ill at  if the principal purpose of the enactment is public in nature it is irrelevant that there will be an incidental benefit to private interests salem  ill d at  adamowski  ill d at  lynn also takes the position that nonafdc individuals should be charged a fee for the enforcement services provided under this legislation and that absent such a fee the provisions are unconstitutional we note first that the department regulations require that nonafdc applicants for services pay an application processing fee not to exceed   ill adm code §   although the record is silent on this issue we assume that this fee was charged to larry as he was required under the regulations to file an application with the department to obtain these services  ill adm code § a  apparently then lynn’s contention is that fees in addition to the application fee are required to be charged to larry if the statutory provisions are to be constitutional section  —  of our code directs that where services are provided on behalf of a nonaid recipient under certain circumstances a collection fee shall be collected from the person who owes the support obligation  ilcs  —  west  further section  —  of the code grants the department discretion to establish a reasonable schedule of fees and to deduct a collection fee not to exceed  of the amount collected from the support collected  ilcs  —  west  other than the application processing fee the department regulations do not set forth a plan for additional fees or other cost recovery from the applicant for services the parties do not direct our attention to any other source for such additional fees to be recovered from the applicant thus our statutory scheme does not provide for the imposition of a fee beyond the application process ing fee to be imposed upon nonafdc applicants for support enforcement services nevertheless we fail to see how the department’s decision whether to impose a fee for the services provided impacts on whether the legislation serves a public purpose lynn also urges this court to affirm the circuit court because the parties had two years earlier stipulated that lynn would not pay child support the court entered an order pursuant to that stipulation and there is no claim that there has been any change in circumstances warranting that lynn now be ordered to pay child support all of these circumstances however pertain to the merits of the petition to establish a child support obligation on the part of lynn due to the circuit court’s denial of the motion to intervene the merits of that petition were never reached the only issue before this court is whether the circuit court erred in denying the department leave to intervene and none of these circumstances are relevant to that issue in conclusion we find no reason to overturn the legislature’s determination that a public purpose is served by the provision of child support enforcement services on behalf of all children regardless of the financial circumstances of their custodial parent child support enforcement in this country has in the past been a national disgrace due both to the lack of effective enforcement programs and the failure to implement those programs by the officials charged with enforcement see s rep no  —  rd cong d sess reprinted in  yousccan   people v sheppard  ill d    it was the legislature’s province to assess this crisis and determine whether and how to respond we are not persuaded that the legislature exceeded the bounds of its discretion in enacting the legislation here challenged conclusion for the foregoing reasons we reverse the circuit court’s order which held sections  —  and  —  of the public aid code unconstitutional and denied the department’s motion to intervene this because is remanded to the circuit court for further proceedings not inconsistent with this opinion reversed and remanded  we note in passing that the record contains no evidence regarding either larry’s or lynn’s current financial status although the circuit court concluded that larry earned  per year the only basis in the record for that conclusion is an allegation in lynn’s unverified objection to the petition to intervene where she states that she verily believes that larry k lappe is not a recipient of public aid and further verily believes that he has a large and sufficient income approximately  per year”  for ease of reference we will refer to the federal funding illinois receives toward its public assistance program as afdc” funding even though pursuant to the  personal responsibility act such federal funding will in the future be provided through the tanf block grant program'"
      ]
     },
     "execution_count": 260,
     "metadata": {},
     "output_type": "execute_result"
    }
   ],
   "source": [
    "opinions['opinion'][0]"
   ]
  },
  {
   "cell_type": "markdown",
   "id": "caa8bda5",
   "metadata": {},
   "source": [
    "## Document Retrieval"
   ]
  },
  {
   "cell_type": "code",
   "execution_count": 182,
   "id": "fd4ba74f",
   "metadata": {},
   "outputs": [],
   "source": [
    "def retrieve_docs(words):\n",
    "    \"\"\"\n",
    "    words: list of words\n",
    "    \n",
    "    Find documents for which any of the word\n",
    "    in words is a relevant term according to \n",
    "    the tf idf score.\n",
    "    Return a dataframe containing the documents.\n",
    "    \"\"\"\n",
    "    docs = []\n",
    "\n",
    "    for key, value in tfidf.items():\n",
    "        terms = value.keys()\n",
    "        if set(words).intersection(terms):\n",
    "            docs.append(key)\n",
    "    \n",
    "    docs_df = opinions.iloc[docs]\n",
    "    \n",
    "    return docs_df"
   ]
  },
  {
   "cell_type": "code",
   "execution_count": 45,
   "id": "fa2b3712",
   "metadata": {},
   "outputs": [],
   "source": [
    "narc_docs = retrieve_docs(narcotics)"
   ]
  },
  {
   "cell_type": "code",
   "execution_count": 46,
   "id": "5ac9cc18",
   "metadata": {},
   "outputs": [
    {
     "data": {
      "text/plain": [
       "4755"
      ]
     },
     "execution_count": 46,
     "metadata": {},
     "output_type": "execute_result"
    }
   ],
   "source": [
    "len(narc_docs)"
   ]
  },
  {
   "cell_type": "code",
   "execution_count": 47,
   "id": "61b74a6b",
   "metadata": {},
   "outputs": [
    {
     "data": {
      "text/html": [
       "<div>\n",
       "<style scoped>\n",
       "    .dataframe tbody tr th:only-of-type {\n",
       "        vertical-align: middle;\n",
       "    }\n",
       "\n",
       "    .dataframe tbody tr th {\n",
       "        vertical-align: top;\n",
       "    }\n",
       "\n",
       "    .dataframe thead th {\n",
       "        text-align: right;\n",
       "    }\n",
       "</style>\n",
       "<table border=\"1\" class=\"dataframe\">\n",
       "  <thead>\n",
       "    <tr style=\"text-align: right;\">\n",
       "      <th></th>\n",
       "      <th>id</th>\n",
       "      <th>name</th>\n",
       "      <th>year</th>\n",
       "      <th>opinion</th>\n",
       "      <th>tokens</th>\n",
       "    </tr>\n",
       "  </thead>\n",
       "  <tbody>\n",
       "    <tr>\n",
       "      <th>51</th>\n",
       "      <td>1725083</td>\n",
       "      <td>People v. Garcia</td>\n",
       "      <td>1997</td>\n",
       "      <td>presiding justice greiman delivered the opinio...</td>\n",
       "      <td>[preside, justice, greiman, deliver, the, opin...</td>\n",
       "    </tr>\n",
       "    <tr>\n",
       "      <th>65</th>\n",
       "      <td>980676</td>\n",
       "      <td>M.F. v. M.F.</td>\n",
       "      <td>2000</td>\n",
       "      <td>justice hutchinson delivered the opinion of th...</td>\n",
       "      <td>[justice, hutchinson, deliver, the, opinion, o...</td>\n",
       "    </tr>\n",
       "    <tr>\n",
       "      <th>86</th>\n",
       "      <td>980718</td>\n",
       "      <td>People v. Burris</td>\n",
       "      <td>2000</td>\n",
       "      <td>justice colwell delivered the opinion of the c...</td>\n",
       "      <td>[justice, colwell, deliver, the, opinion, of, ...</td>\n",
       "    </tr>\n",
       "    <tr>\n",
       "      <th>98</th>\n",
       "      <td>222574</td>\n",
       "      <td>People v. Evans</td>\n",
       "      <td>1997</td>\n",
       "      <td>justice o’brien delivered the opinion of the c...</td>\n",
       "      <td>[justice, o, ’, brien, deliver, the, opinion, ...</td>\n",
       "    </tr>\n",
       "    <tr>\n",
       "      <th>99</th>\n",
       "      <td>222574</td>\n",
       "      <td>People v. Evans</td>\n",
       "      <td>1997</td>\n",
       "      <td>presiding justice campbell specially concurrin...</td>\n",
       "      <td>[preside, justice, campbell, specially, concur...</td>\n",
       "    </tr>\n",
       "  </tbody>\n",
       "</table>\n",
       "</div>"
      ],
      "text/plain": [
       "         id              name  year  \\\n",
       "51  1725083  People v. Garcia  1997   \n",
       "65   980676      M.F. v. M.F.  2000   \n",
       "86   980718  People v. Burris  2000   \n",
       "98   222574   People v. Evans  1997   \n",
       "99   222574   People v. Evans  1997   \n",
       "\n",
       "                                              opinion  \\\n",
       "51  presiding justice greiman delivered the opinio...   \n",
       "65  justice hutchinson delivered the opinion of th...   \n",
       "86  justice colwell delivered the opinion of the c...   \n",
       "98  justice o’brien delivered the opinion of the c...   \n",
       "99  presiding justice campbell specially concurrin...   \n",
       "\n",
       "                                               tokens  \n",
       "51  [preside, justice, greiman, deliver, the, opin...  \n",
       "65  [justice, hutchinson, deliver, the, opinion, o...  \n",
       "86  [justice, colwell, deliver, the, opinion, of, ...  \n",
       "98  [justice, o, ’, brien, deliver, the, opinion, ...  \n",
       "99  [preside, justice, campbell, specially, concur...  "
      ]
     },
     "execution_count": 47,
     "metadata": {},
     "output_type": "execute_result"
    }
   ],
   "source": [
    "narc_docs.head()"
   ]
  },
  {
   "cell_type": "markdown",
   "id": "71ce0586",
   "metadata": {},
   "source": [
    "## Time Trends"
   ]
  },
  {
   "cell_type": "code",
   "execution_count": 160,
   "id": "4d838f39",
   "metadata": {
    "scrolled": true
   },
   "outputs": [
    {
     "data": {
      "image/png": "[encoded data removed]",
      "text/plain": [
       "<Figure size 432x288 with 1 Axes>"
      ]
     },
     "metadata": {
      "needs_background": "light"
     },
     "output_type": "display_data"
    }
   ],
   "source": [
    "import matplotlib.pyplot as plt\n",
    "\n",
    "# Histogram of all the opinions\n",
    "plt.hist(opinions['year'], bins='auto');"
   ]
  },
  {
   "cell_type": "code",
   "execution_count": 89,
   "id": "1658a546",
   "metadata": {},
   "outputs": [
    {
     "data": {
      "text/plain": [
       "1771       1\n",
       "1819       5\n",
       "1820      12\n",
       "1822      16\n",
       "1823      11\n",
       "        ... \n",
       "2007    1039\n",
       "2008    1032\n",
       "2009    1046\n",
       "2010     988\n",
       "2011     388\n",
       "Name: year, Length: 193, dtype: int64"
      ]
     },
     "execution_count": 89,
     "metadata": {},
     "output_type": "execute_result"
    }
   ],
   "source": [
    "# Occurrences of opinions by year\n",
    "counts = opinions['year'].value_counts().sort_index()\n",
    "counts"
   ]
  },
  {
   "cell_type": "code",
   "execution_count": 90,
   "id": "0144bbdd",
   "metadata": {
    "scrolled": false
   },
   "outputs": [
    {
     "data": {
      "text/plain": [
       "988"
      ]
     },
     "execution_count": 90,
     "metadata": {},
     "output_type": "execute_result"
    }
   ],
   "source": [
    "# Convert to dict\n",
    "year_occ = counts.to_dict()\n",
    "year_occ[2010]"
   ]
  },
  {
   "cell_type": "code",
   "execution_count": 161,
   "id": "4fa081cd",
   "metadata": {},
   "outputs": [],
   "source": [
    "def relative_freq(col):\n",
    "    \"\"\"\n",
    "    col: pandas series containing year values\n",
    "    Given a subset of opinions, compute the relative\n",
    "    frequency for each year with respect to the \n",
    "    total number of occurrencies.\n",
    "    \"\"\"\n",
    "    \n",
    "    occurrencies = col.value_counts().sort_index().to_dict()\n",
    "    frequencies = {}\n",
    "    \n",
    "    for key, value in occurrencies.items():\n",
    "        rel_freq = value / year_occ[key]\n",
    "        frequencies[key] = rel_freq\n",
    "    \n",
    "    return pd.DataFrame({'year': frequencies.keys(), 'count': frequencies.values()})"
   ]
  },
  {
   "cell_type": "code",
   "execution_count": 196,
   "id": "7a8349bb",
   "metadata": {},
   "outputs": [
    {
     "data": {
      "image/png": "[encoded data removed]",
      "text/plain": [
       "<Figure size 432x288 with 2 Axes>"
      ]
     },
     "metadata": {
      "needs_background": "light"
     },
     "output_type": "display_data"
    }
   ],
   "source": [
    "narc_freq = relative_freq(narc_docs['year'])\n",
    "\n",
    "fig, (ax1, ax2) = plt.subplots(2, sharex=True)\n",
    "fig.suptitle('Opinions about narcotics over the years: relative (top), absolute (bottom).')\n",
    "ax1.bar(narc_freq['year'], narc_freq['count'], width=1)\n",
    "ax2.hist(narc_docs['year'], bins='auto');"
   ]
  },
  {
   "cell_type": "code",
   "execution_count": 195,
   "id": "078a9b13",
   "metadata": {
    "scrolled": false
   },
   "outputs": [
    {
     "data": {
      "image/png": "[encoded data removed]",
      "text/plain": [
       "<Figure size 432x288 with 2 Axes>"
      ]
     },
     "metadata": {
      "needs_background": "light"
     },
     "output_type": "display_data"
    }
   ],
   "source": [
    "marij_docs = retrieve_docs(['marijuana', 'marihuana', 'cannabis'])\n",
    "marij_freq = relative_freq(marij_docs['year'])\n",
    "\n",
    "ecst_docs = retrieve_docs(['mdma', 'ecstasy', 'methamphetamine'])\n",
    "ecst_freq = relative_freq(ecst_docs['year'])\n",
    "\n",
    "fig, (ax1, ax2) = plt.subplots(2, sharex=True)\n",
    "fig.suptitle('Opinions about marijuana (top) and synthetic drugs (bottom) over the years.')\n",
    "ax1.bar(marij_freq['year'], marij_freq['count'], width=1)\n",
    "ax2.bar(ecst_freq['year'], ecst_freq['count'], width=1);"
   ]
  },
  {
   "cell_type": "code",
   "execution_count": 207,
   "id": "3ec5f983",
   "metadata": {},
   "outputs": [
    {
     "data": {
      "image/png": "[encoded data removed]",
      "text/plain": [
       "<Figure size 432x288 with 1 Axes>"
      ]
     },
     "metadata": {
      "needs_background": "light"
     },
     "output_type": "display_data"
    }
   ],
   "source": [
    "homosexual_terms = similar_terms(['homosexual'])\n",
    "homosexual_docs = retrieve_docs(homosexual_terms)\n",
    "homosexual_freq = relative_freq(homosexual_docs['year'])\n",
    "\n",
    "plt.bar(homosexual_freq['year'], homosexual_freq['count'], width=1)\n",
    "plt.title('Opinions regarding homosexuality (and related terms).');"
   ]
  },
  {
   "cell_type": "markdown",
   "id": "80e3f00d",
   "metadata": {},
   "source": [
    "## Correlation"
   ]
  },
  {
   "cell_type": "code",
   "execution_count": 221,
   "id": "eeccaabc",
   "metadata": {},
   "outputs": [],
   "source": [
    "def terms_corr(terms):\n",
    "    \"\"\"\n",
    "    terms: list of terms\n",
    "    Compute Pearson's correlation coefficient\n",
    "    for terms, based on their tf idf scores.\n",
    "    \"\"\"\n",
    "    \n",
    "    indexes = []\n",
    "    \n",
    "    for term in terms:\n",
    "        indexes.append(features.index(term))\n",
    "        \n",
    "    values = []\n",
    "    \n",
    "    for i, v in tqdm(enumerate(vectors)):\n",
    "        vect = v.toarray()[0]\n",
    "        values.append(vect[indexes])\n",
    "\n",
    "    values = np.array(values)\n",
    "    \n",
    "    correlation = np.corrcoef(values, rowvar=False)\n",
    "    \n",
    "    return correlation"
   ]
  },
  {
   "cell_type": "code",
   "execution_count": 258,
   "id": "de6a96a5",
   "metadata": {
    "scrolled": true
   },
   "outputs": [
    {
     "data": {
      "application/vnd.jupyter.widget-view+json": {
       "model_id": "70369822e14d487fa7295dafb67d1c21",
       "version_major": 2,
       "version_minor": 0
      },
      "text/plain": [
       "0it [00:00, ?it/s]"
      ]
     },
     "metadata": {},
     "output_type": "display_data"
    },
    {
     "data": {
      "text/plain": [
       "array([[1.   , 0.365, 0.22 , 0.061],\n",
       "       [0.365, 1.   , 0.101, 0.045],\n",
       "       [0.22 , 0.101, 1.   , 0.039],\n",
       "       [0.061, 0.045, 0.039, 1.   ]])"
      ]
     },
     "execution_count": 258,
     "metadata": {},
     "output_type": "execute_result"
    }
   ],
   "source": [
    "np.set_printoptions(precision=3, suppress=True)\n",
    "\n",
    "corr = terms_corr(['gun', 'weapon', 'murder', 'male'])\n",
    "corr"
   ]
  },
  {
   "cell_type": "code",
   "execution_count": 261,
   "id": "30d99848",
   "metadata": {},
   "outputs": [],
   "source": [
    "from sklearn.cross_decomposition import CCA\n",
    "\n",
    "def cca(group1, group2):\n",
    "    \"\"\"\n",
    "    group1, group2: lists of terms\n",
    "    Compute canonical correlation analysis\n",
    "    between two groups of term, based on \n",
    "    their tf idf scores.\n",
    "    \"\"\"\n",
    "    \n",
    "    idx1 = []\n",
    "    idx2 = []\n",
    "    \n",
    "    for term in group1:\n",
    "        idx1.append(features.index(term))\n",
    "        \n",
    "    for term in group2:\n",
    "        idx2.append(features.index(term))\n",
    "        \n",
    "    X = []\n",
    "    Y = []\n",
    "    \n",
    "    for i, v in tqdm(enumerate(vectors)):\n",
    "        vect = v.toarray()[0]\n",
    "        X.append(vect[idx1])\n",
    "        Y.append(vect[idx2])\n",
    "\n",
    "    cca = CCA(n_components=2)\n",
    "    cca.fit_transform(X, Y)\n",
    "    \n",
    "    return cca"
   ]
  },
  {
   "cell_type": "code",
   "execution_count": null,
   "id": "011b521c",
   "metadata": {},
   "outputs": [],
   "source": []
  }
 ],
 "metadata": {
  "kernelspec": {
   "display_name": "Python 3",
   "language": "python",
   "name": "python3"
  },
  "language_info": {
   "codemirror_mode": {
    "name": "ipython",
    "version": 3
   },
   "file_extension": ".py",
   "mimetype": "text/x-python",
   "name": "python",
   "nbconvert_exporter": "python",
   "pygments_lexer": "ipython3",
   "version": "3.8.8"
  }
 },
 "nbformat": 4,
 "nbformat_minor": 5
}
